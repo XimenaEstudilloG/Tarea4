{
  "nbformat": 4,
  "nbformat_minor": 0,
  "metadata": {
    "colab": {
      "name": "Ecuaciones_2grado.ipynb",
      "provenance": [],
      "collapsed_sections": []
    },
    "kernelspec": {
      "name": "python3",
      "display_name": "Python 3"
    },
    "language_info": {
      "name": "python"
    }
  },
  "cells": [
    {
      "cell_type": "code",
      "metadata": {
        "id": "wzDot8im3lrE",
        "colab": {
          "base_uri": "https://localhost:8080/"
        },
        "outputId": "dcda0be8-d016-4070-bf0d-43785cd11ae8"
      },
      "source": [
        "import math\n",
        "a=int(input('Teclea a continuación el primer valor de tu ecuación:'))\n",
        "b=int(input('Teclea ahora el segundo valor:'))\n",
        "c=int(input('Por último teclea el tercer valor:'))\n",
        "\n",
        "print('La manera en que se realizara tu ecuación de segundo grado es por medio de la famosa fórmula de la chicharronera.')\n",
        "print('ax^2+bx+c  ------>       ')\n",
        "\n",
        "#fórmula\n",
        "\n",
        "f=(b*b)-4*a*c\n",
        "if f<0:\n",
        "    print('No se encontro niguna solución a esta ecuación:(')\n",
        "else:\n",
        "    x1=( -b+math.sqrt(f))/(2*a)\n",
        "    x2=( -b-math.sqrt(f))/(2*a)\n",
        "\n",
        "    print('La solución a la primer variable: x1, es:', x1)\n",
        "    print('La solución a la segunda variable: x2, es:', x2)"
      ],
      "execution_count": 11,
      "outputs": [
        {
          "output_type": "stream",
          "name": "stdout",
          "text": [
            "Teclea a continuación el primer valor de tu ecuación:34\n",
            "Teclea ahora el segundo valor:237\n",
            "Por último teclea el tercer valor:98\n",
            "La manera en que se realizara tu ecuación de segundo grado es por medio de la famosa fórmula de la chicharronera.\n",
            "ax^2+bx+c  ------>       \n",
            "La solución a la primer variable: x1, es: -0.44146065549300734\n",
            "La solución a la segunda variable: x1, es: -6.52912757980111\n"
          ]
        }
      ]
    }
  ]
}